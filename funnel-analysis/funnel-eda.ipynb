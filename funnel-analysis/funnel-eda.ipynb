{
 "cells": [
  {
   "cell_type": "code",
   "execution_count": 1,
   "metadata": {
    "collapsed": true
   },
   "outputs": [],
   "source": [
    "%matplotlib inline\n",
    "\n",
    "import pandas as pd\n",
    "import numpy as np\n",
    "import matplotlib.pyplot as plt"
   ]
  },
  {
   "cell_type": "code",
   "execution_count": 2,
   "metadata": {
    "collapsed": false
   },
   "outputs": [],
   "source": [
    "df_users = pd.read_csv('user_table.csv')\n",
    "df_home_pg = pd.read_csv('home_page_table.csv')\n",
    "df_search_pg = pd.read_csv('search_page_table.csv')\n",
    "df_pay_pg = pd.read_csv('payment_page_table.csv')\n",
    "df_pay_conf_pg = pd.read_csv('payment_confirmation_table.csv')"
   ]
  },
  {
   "cell_type": "markdown",
   "metadata": {},
   "source": [
    "Merging dataframes"
   ]
  },
  {
   "cell_type": "code",
   "execution_count": 3,
   "metadata": {
    "collapsed": false
   },
   "outputs": [],
   "source": [
    "df_merged = df_users.merge(df_home_pg, on='user_id', how='left', sort=False).merge(df_search_pg, on='user_id', how='left', sort=False).merge(df_pay_pg, on='user_id', how='left', sort=False).merge(df_pay_conf_pg, on='user_id', how='left', sort=False)"
   ]
  },
  {
   "cell_type": "markdown",
   "metadata": {},
   "source": [
    "Renaming columns"
   ]
  },
  {
   "cell_type": "code",
   "execution_count": 4,
   "metadata": {
    "collapsed": true
   },
   "outputs": [],
   "source": [
    "df_merged.columns = ['user_id', 'date', 'device', 'sex', 'home_page', 'search_page', 'payment_page', 'payment_confirmation_page']"
   ]
  },
  {
   "cell_type": "code",
   "execution_count": 5,
   "metadata": {
    "collapsed": false
   },
   "outputs": [
    {
     "data": {
      "text/html": [
       "<div>\n",
       "<table border=\"1\" class=\"dataframe\">\n",
       "  <thead>\n",
       "    <tr style=\"text-align: right;\">\n",
       "      <th></th>\n",
       "      <th>user_id</th>\n",
       "      <th>date</th>\n",
       "      <th>device</th>\n",
       "      <th>sex</th>\n",
       "      <th>home_page</th>\n",
       "      <th>search_page</th>\n",
       "      <th>payment_page</th>\n",
       "      <th>payment_confirmation_page</th>\n",
       "    </tr>\n",
       "  </thead>\n",
       "  <tbody>\n",
       "    <tr>\n",
       "      <th>0</th>\n",
       "      <td>450007</td>\n",
       "      <td>2015-02-28</td>\n",
       "      <td>Desktop</td>\n",
       "      <td>Female</td>\n",
       "      <td>home_page</td>\n",
       "      <td>NaN</td>\n",
       "      <td>NaN</td>\n",
       "      <td>NaN</td>\n",
       "    </tr>\n",
       "    <tr>\n",
       "      <th>1</th>\n",
       "      <td>756838</td>\n",
       "      <td>2015-01-13</td>\n",
       "      <td>Desktop</td>\n",
       "      <td>Male</td>\n",
       "      <td>home_page</td>\n",
       "      <td>NaN</td>\n",
       "      <td>NaN</td>\n",
       "      <td>NaN</td>\n",
       "    </tr>\n",
       "    <tr>\n",
       "      <th>2</th>\n",
       "      <td>568983</td>\n",
       "      <td>2015-04-09</td>\n",
       "      <td>Desktop</td>\n",
       "      <td>Male</td>\n",
       "      <td>home_page</td>\n",
       "      <td>search_page</td>\n",
       "      <td>NaN</td>\n",
       "      <td>NaN</td>\n",
       "    </tr>\n",
       "    <tr>\n",
       "      <th>3</th>\n",
       "      <td>190794</td>\n",
       "      <td>2015-02-18</td>\n",
       "      <td>Desktop</td>\n",
       "      <td>Female</td>\n",
       "      <td>home_page</td>\n",
       "      <td>search_page</td>\n",
       "      <td>NaN</td>\n",
       "      <td>NaN</td>\n",
       "    </tr>\n",
       "    <tr>\n",
       "      <th>4</th>\n",
       "      <td>537909</td>\n",
       "      <td>2015-01-15</td>\n",
       "      <td>Desktop</td>\n",
       "      <td>Male</td>\n",
       "      <td>home_page</td>\n",
       "      <td>NaN</td>\n",
       "      <td>NaN</td>\n",
       "      <td>NaN</td>\n",
       "    </tr>\n",
       "  </tbody>\n",
       "</table>\n",
       "</div>"
      ],
      "text/plain": [
       "   user_id        date   device     sex  home_page  search_page payment_page  \\\n",
       "0   450007  2015-02-28  Desktop  Female  home_page          NaN          NaN   \n",
       "1   756838  2015-01-13  Desktop    Male  home_page          NaN          NaN   \n",
       "2   568983  2015-04-09  Desktop    Male  home_page  search_page          NaN   \n",
       "3   190794  2015-02-18  Desktop  Female  home_page  search_page          NaN   \n",
       "4   537909  2015-01-15  Desktop    Male  home_page          NaN          NaN   \n",
       "\n",
       "  payment_confirmation_page  \n",
       "0                       NaN  \n",
       "1                       NaN  \n",
       "2                       NaN  \n",
       "3                       NaN  \n",
       "4                       NaN  "
      ]
     },
     "execution_count": 5,
     "metadata": {},
     "output_type": "execute_result"
    }
   ],
   "source": [
    "df_merged.head()"
   ]
  },
  {
   "cell_type": "markdown",
   "metadata": {},
   "source": [
    "Filling NaN's with 0's, replacing text with 1's, dummifying device and sex columns"
   ]
  },
  {
   "cell_type": "code",
   "execution_count": 6,
   "metadata": {
    "collapsed": true
   },
   "outputs": [],
   "source": [
    "df_merged.fillna(0, inplace=True)"
   ]
  },
  {
   "cell_type": "code",
   "execution_count": 7,
   "metadata": {
    "collapsed": false
   },
   "outputs": [],
   "source": [
    "df_merged['home_page'].replace('home_page', 1, inplace=True)"
   ]
  },
  {
   "cell_type": "code",
   "execution_count": 8,
   "metadata": {
    "collapsed": false
   },
   "outputs": [],
   "source": [
    "df_merged['search_page'].replace('search_page', 1, inplace=True)"
   ]
  },
  {
   "cell_type": "code",
   "execution_count": 9,
   "metadata": {
    "collapsed": true
   },
   "outputs": [],
   "source": [
    "df_merged['payment_page'].replace('payment_page', 1, inplace=True)"
   ]
  },
  {
   "cell_type": "code",
   "execution_count": 10,
   "metadata": {
    "collapsed": true
   },
   "outputs": [],
   "source": [
    "df_merged['payment_confirmation_page'].replace('payment_confirmation_page', 1, inplace=True)"
   ]
  },
  {
   "cell_type": "code",
   "execution_count": 11,
   "metadata": {
    "collapsed": false
   },
   "outputs": [],
   "source": [
    "df_merged['mobile'] = pd.get_dummies(df_merged['device'], drop_first=True)"
   ]
  },
  {
   "cell_type": "code",
   "execution_count": 12,
   "metadata": {
    "collapsed": true
   },
   "outputs": [],
   "source": [
    "df_merged['male'] = pd.get_dummies(df_merged['sex'], drop_first=True)"
   ]
  },
  {
   "cell_type": "code",
   "execution_count": 13,
   "metadata": {
    "collapsed": false
   },
   "outputs": [
    {
     "data": {
      "text/html": [
       "<div>\n",
       "<table border=\"1\" class=\"dataframe\">\n",
       "  <thead>\n",
       "    <tr style=\"text-align: right;\">\n",
       "      <th></th>\n",
       "      <th>user_id</th>\n",
       "      <th>date</th>\n",
       "      <th>device</th>\n",
       "      <th>sex</th>\n",
       "      <th>home_page</th>\n",
       "      <th>search_page</th>\n",
       "      <th>payment_page</th>\n",
       "      <th>payment_confirmation_page</th>\n",
       "      <th>mobile</th>\n",
       "      <th>male</th>\n",
       "    </tr>\n",
       "  </thead>\n",
       "  <tbody>\n",
       "    <tr>\n",
       "      <th>0</th>\n",
       "      <td>450007</td>\n",
       "      <td>2015-02-28</td>\n",
       "      <td>Desktop</td>\n",
       "      <td>Female</td>\n",
       "      <td>1</td>\n",
       "      <td>0</td>\n",
       "      <td>0</td>\n",
       "      <td>0</td>\n",
       "      <td>0</td>\n",
       "      <td>0</td>\n",
       "    </tr>\n",
       "    <tr>\n",
       "      <th>1</th>\n",
       "      <td>756838</td>\n",
       "      <td>2015-01-13</td>\n",
       "      <td>Desktop</td>\n",
       "      <td>Male</td>\n",
       "      <td>1</td>\n",
       "      <td>0</td>\n",
       "      <td>0</td>\n",
       "      <td>0</td>\n",
       "      <td>0</td>\n",
       "      <td>1</td>\n",
       "    </tr>\n",
       "    <tr>\n",
       "      <th>2</th>\n",
       "      <td>568983</td>\n",
       "      <td>2015-04-09</td>\n",
       "      <td>Desktop</td>\n",
       "      <td>Male</td>\n",
       "      <td>1</td>\n",
       "      <td>1</td>\n",
       "      <td>0</td>\n",
       "      <td>0</td>\n",
       "      <td>0</td>\n",
       "      <td>1</td>\n",
       "    </tr>\n",
       "    <tr>\n",
       "      <th>3</th>\n",
       "      <td>190794</td>\n",
       "      <td>2015-02-18</td>\n",
       "      <td>Desktop</td>\n",
       "      <td>Female</td>\n",
       "      <td>1</td>\n",
       "      <td>1</td>\n",
       "      <td>0</td>\n",
       "      <td>0</td>\n",
       "      <td>0</td>\n",
       "      <td>0</td>\n",
       "    </tr>\n",
       "    <tr>\n",
       "      <th>4</th>\n",
       "      <td>537909</td>\n",
       "      <td>2015-01-15</td>\n",
       "      <td>Desktop</td>\n",
       "      <td>Male</td>\n",
       "      <td>1</td>\n",
       "      <td>0</td>\n",
       "      <td>0</td>\n",
       "      <td>0</td>\n",
       "      <td>0</td>\n",
       "      <td>1</td>\n",
       "    </tr>\n",
       "  </tbody>\n",
       "</table>\n",
       "</div>"
      ],
      "text/plain": [
       "   user_id        date   device     sex  home_page  search_page  payment_page  \\\n",
       "0   450007  2015-02-28  Desktop  Female          1            0             0   \n",
       "1   756838  2015-01-13  Desktop    Male          1            0             0   \n",
       "2   568983  2015-04-09  Desktop    Male          1            1             0   \n",
       "3   190794  2015-02-18  Desktop  Female          1            1             0   \n",
       "4   537909  2015-01-15  Desktop    Male          1            0             0   \n",
       "\n",
       "   payment_confirmation_page  mobile  male  \n",
       "0                          0       0     0  \n",
       "1                          0       0     1  \n",
       "2                          0       0     1  \n",
       "3                          0       0     0  \n",
       "4                          0       0     1  "
      ]
     },
     "execution_count": 13,
     "metadata": {},
     "output_type": "execute_result"
    }
   ],
   "source": [
    "df_merged.head()"
   ]
  },
  {
   "cell_type": "markdown",
   "metadata": {},
   "source": [
    "Sorting by landing date; earliest: 2015-01-01; latest: 2015-04-30 "
   ]
  },
  {
   "cell_type": "code",
   "execution_count": 14,
   "metadata": {
    "collapsed": false
   },
   "outputs": [
    {
     "data": {
      "text/html": [
       "<div>\n",
       "<table border=\"1\" class=\"dataframe\">\n",
       "  <thead>\n",
       "    <tr style=\"text-align: right;\">\n",
       "      <th></th>\n",
       "      <th>user_id</th>\n",
       "      <th>date</th>\n",
       "      <th>device</th>\n",
       "      <th>sex</th>\n",
       "      <th>home_page</th>\n",
       "      <th>search_page</th>\n",
       "      <th>payment_page</th>\n",
       "      <th>payment_confirmation_page</th>\n",
       "      <th>mobile</th>\n",
       "      <th>male</th>\n",
       "    </tr>\n",
       "  </thead>\n",
       "  <tbody>\n",
       "    <tr>\n",
       "      <th>44634</th>\n",
       "      <td>602817</td>\n",
       "      <td>2015-01-01</td>\n",
       "      <td>Desktop</td>\n",
       "      <td>Male</td>\n",
       "      <td>1</td>\n",
       "      <td>0</td>\n",
       "      <td>0</td>\n",
       "      <td>0</td>\n",
       "      <td>0</td>\n",
       "      <td>1</td>\n",
       "    </tr>\n",
       "    <tr>\n",
       "      <th>62649</th>\n",
       "      <td>653429</td>\n",
       "      <td>2015-01-01</td>\n",
       "      <td>Desktop</td>\n",
       "      <td>Male</td>\n",
       "      <td>1</td>\n",
       "      <td>0</td>\n",
       "      <td>0</td>\n",
       "      <td>0</td>\n",
       "      <td>0</td>\n",
       "      <td>1</td>\n",
       "    </tr>\n",
       "    <tr>\n",
       "      <th>30040</th>\n",
       "      <td>701366</td>\n",
       "      <td>2015-01-01</td>\n",
       "      <td>Desktop</td>\n",
       "      <td>Male</td>\n",
       "      <td>1</td>\n",
       "      <td>0</td>\n",
       "      <td>0</td>\n",
       "      <td>0</td>\n",
       "      <td>0</td>\n",
       "      <td>1</td>\n",
       "    </tr>\n",
       "    <tr>\n",
       "      <th>30049</th>\n",
       "      <td>309933</td>\n",
       "      <td>2015-01-01</td>\n",
       "      <td>Desktop</td>\n",
       "      <td>Female</td>\n",
       "      <td>1</td>\n",
       "      <td>0</td>\n",
       "      <td>0</td>\n",
       "      <td>0</td>\n",
       "      <td>0</td>\n",
       "      <td>0</td>\n",
       "    </tr>\n",
       "    <tr>\n",
       "      <th>34436</th>\n",
       "      <td>574869</td>\n",
       "      <td>2015-01-01</td>\n",
       "      <td>Desktop</td>\n",
       "      <td>Male</td>\n",
       "      <td>1</td>\n",
       "      <td>1</td>\n",
       "      <td>0</td>\n",
       "      <td>0</td>\n",
       "      <td>0</td>\n",
       "      <td>1</td>\n",
       "    </tr>\n",
       "    <tr>\n",
       "      <th>57966</th>\n",
       "      <td>993501</td>\n",
       "      <td>2015-01-01</td>\n",
       "      <td>Desktop</td>\n",
       "      <td>Male</td>\n",
       "      <td>1</td>\n",
       "      <td>0</td>\n",
       "      <td>0</td>\n",
       "      <td>0</td>\n",
       "      <td>0</td>\n",
       "      <td>1</td>\n",
       "    </tr>\n",
       "    <tr>\n",
       "      <th>44202</th>\n",
       "      <td>955015</td>\n",
       "      <td>2015-01-01</td>\n",
       "      <td>Desktop</td>\n",
       "      <td>Female</td>\n",
       "      <td>1</td>\n",
       "      <td>1</td>\n",
       "      <td>0</td>\n",
       "      <td>0</td>\n",
       "      <td>0</td>\n",
       "      <td>0</td>\n",
       "    </tr>\n",
       "    <tr>\n",
       "      <th>19241</th>\n",
       "      <td>275388</td>\n",
       "      <td>2015-01-01</td>\n",
       "      <td>Desktop</td>\n",
       "      <td>Male</td>\n",
       "      <td>1</td>\n",
       "      <td>0</td>\n",
       "      <td>0</td>\n",
       "      <td>0</td>\n",
       "      <td>0</td>\n",
       "      <td>1</td>\n",
       "    </tr>\n",
       "    <tr>\n",
       "      <th>34423</th>\n",
       "      <td>881745</td>\n",
       "      <td>2015-01-01</td>\n",
       "      <td>Mobile</td>\n",
       "      <td>Female</td>\n",
       "      <td>1</td>\n",
       "      <td>1</td>\n",
       "      <td>0</td>\n",
       "      <td>0</td>\n",
       "      <td>1</td>\n",
       "      <td>0</td>\n",
       "    </tr>\n",
       "    <tr>\n",
       "      <th>4588</th>\n",
       "      <td>71618</td>\n",
       "      <td>2015-01-01</td>\n",
       "      <td>Desktop</td>\n",
       "      <td>Male</td>\n",
       "      <td>1</td>\n",
       "      <td>1</td>\n",
       "      <td>0</td>\n",
       "      <td>0</td>\n",
       "      <td>0</td>\n",
       "      <td>1</td>\n",
       "    </tr>\n",
       "    <tr>\n",
       "      <th>22648</th>\n",
       "      <td>855885</td>\n",
       "      <td>2015-01-01</td>\n",
       "      <td>Desktop</td>\n",
       "      <td>Female</td>\n",
       "      <td>1</td>\n",
       "      <td>0</td>\n",
       "      <td>0</td>\n",
       "      <td>0</td>\n",
       "      <td>0</td>\n",
       "      <td>0</td>\n",
       "    </tr>\n",
       "    <tr>\n",
       "      <th>19202</th>\n",
       "      <td>999928</td>\n",
       "      <td>2015-01-01</td>\n",
       "      <td>Mobile</td>\n",
       "      <td>Female</td>\n",
       "      <td>1</td>\n",
       "      <td>1</td>\n",
       "      <td>0</td>\n",
       "      <td>0</td>\n",
       "      <td>1</td>\n",
       "      <td>0</td>\n",
       "    </tr>\n",
       "    <tr>\n",
       "      <th>75930</th>\n",
       "      <td>122590</td>\n",
       "      <td>2015-01-01</td>\n",
       "      <td>Desktop</td>\n",
       "      <td>Male</td>\n",
       "      <td>1</td>\n",
       "      <td>0</td>\n",
       "      <td>0</td>\n",
       "      <td>0</td>\n",
       "      <td>0</td>\n",
       "      <td>1</td>\n",
       "    </tr>\n",
       "    <tr>\n",
       "      <th>68503</th>\n",
       "      <td>982528</td>\n",
       "      <td>2015-01-01</td>\n",
       "      <td>Mobile</td>\n",
       "      <td>Female</td>\n",
       "      <td>1</td>\n",
       "      <td>0</td>\n",
       "      <td>0</td>\n",
       "      <td>0</td>\n",
       "      <td>1</td>\n",
       "      <td>0</td>\n",
       "    </tr>\n",
       "    <tr>\n",
       "      <th>30132</th>\n",
       "      <td>86452</td>\n",
       "      <td>2015-01-01</td>\n",
       "      <td>Mobile</td>\n",
       "      <td>Male</td>\n",
       "      <td>1</td>\n",
       "      <td>1</td>\n",
       "      <td>0</td>\n",
       "      <td>0</td>\n",
       "      <td>1</td>\n",
       "      <td>1</td>\n",
       "    </tr>\n",
       "    <tr>\n",
       "      <th>580</th>\n",
       "      <td>587892</td>\n",
       "      <td>2015-01-01</td>\n",
       "      <td>Desktop</td>\n",
       "      <td>Female</td>\n",
       "      <td>1</td>\n",
       "      <td>0</td>\n",
       "      <td>0</td>\n",
       "      <td>0</td>\n",
       "      <td>0</td>\n",
       "      <td>0</td>\n",
       "    </tr>\n",
       "    <tr>\n",
       "      <th>13573</th>\n",
       "      <td>279092</td>\n",
       "      <td>2015-01-01</td>\n",
       "      <td>Desktop</td>\n",
       "      <td>Female</td>\n",
       "      <td>1</td>\n",
       "      <td>1</td>\n",
       "      <td>0</td>\n",
       "      <td>0</td>\n",
       "      <td>0</td>\n",
       "      <td>0</td>\n",
       "    </tr>\n",
       "    <tr>\n",
       "      <th>44193</th>\n",
       "      <td>844380</td>\n",
       "      <td>2015-01-01</td>\n",
       "      <td>Desktop</td>\n",
       "      <td>Female</td>\n",
       "      <td>1</td>\n",
       "      <td>0</td>\n",
       "      <td>0</td>\n",
       "      <td>0</td>\n",
       "      <td>0</td>\n",
       "      <td>0</td>\n",
       "    </tr>\n",
       "    <tr>\n",
       "      <th>84785</th>\n",
       "      <td>728049</td>\n",
       "      <td>2015-01-01</td>\n",
       "      <td>Desktop</td>\n",
       "      <td>Female</td>\n",
       "      <td>1</td>\n",
       "      <td>1</td>\n",
       "      <td>1</td>\n",
       "      <td>0</td>\n",
       "      <td>0</td>\n",
       "      <td>0</td>\n",
       "    </tr>\n",
       "    <tr>\n",
       "      <th>19167</th>\n",
       "      <td>327731</td>\n",
       "      <td>2015-01-01</td>\n",
       "      <td>Mobile</td>\n",
       "      <td>Male</td>\n",
       "      <td>1</td>\n",
       "      <td>1</td>\n",
       "      <td>0</td>\n",
       "      <td>0</td>\n",
       "      <td>1</td>\n",
       "      <td>1</td>\n",
       "    </tr>\n",
       "    <tr>\n",
       "      <th>42742</th>\n",
       "      <td>813709</td>\n",
       "      <td>2015-01-01</td>\n",
       "      <td>Mobile</td>\n",
       "      <td>Male</td>\n",
       "      <td>1</td>\n",
       "      <td>0</td>\n",
       "      <td>0</td>\n",
       "      <td>0</td>\n",
       "      <td>1</td>\n",
       "      <td>1</td>\n",
       "    </tr>\n",
       "    <tr>\n",
       "      <th>13509</th>\n",
       "      <td>296304</td>\n",
       "      <td>2015-01-01</td>\n",
       "      <td>Mobile</td>\n",
       "      <td>Female</td>\n",
       "      <td>1</td>\n",
       "      <td>1</td>\n",
       "      <td>0</td>\n",
       "      <td>0</td>\n",
       "      <td>1</td>\n",
       "      <td>0</td>\n",
       "    </tr>\n",
       "    <tr>\n",
       "      <th>53619</th>\n",
       "      <td>994981</td>\n",
       "      <td>2015-01-01</td>\n",
       "      <td>Desktop</td>\n",
       "      <td>Male</td>\n",
       "      <td>1</td>\n",
       "      <td>1</td>\n",
       "      <td>0</td>\n",
       "      <td>0</td>\n",
       "      <td>0</td>\n",
       "      <td>1</td>\n",
       "    </tr>\n",
       "    <tr>\n",
       "      <th>62650</th>\n",
       "      <td>368071</td>\n",
       "      <td>2015-01-01</td>\n",
       "      <td>Desktop</td>\n",
       "      <td>Male</td>\n",
       "      <td>1</td>\n",
       "      <td>0</td>\n",
       "      <td>0</td>\n",
       "      <td>0</td>\n",
       "      <td>0</td>\n",
       "      <td>1</td>\n",
       "    </tr>\n",
       "    <tr>\n",
       "      <th>19317</th>\n",
       "      <td>126023</td>\n",
       "      <td>2015-01-01</td>\n",
       "      <td>Desktop</td>\n",
       "      <td>Female</td>\n",
       "      <td>1</td>\n",
       "      <td>0</td>\n",
       "      <td>0</td>\n",
       "      <td>0</td>\n",
       "      <td>0</td>\n",
       "      <td>0</td>\n",
       "    </tr>\n",
       "    <tr>\n",
       "      <th>45419</th>\n",
       "      <td>756991</td>\n",
       "      <td>2015-01-01</td>\n",
       "      <td>Desktop</td>\n",
       "      <td>Female</td>\n",
       "      <td>1</td>\n",
       "      <td>0</td>\n",
       "      <td>0</td>\n",
       "      <td>0</td>\n",
       "      <td>0</td>\n",
       "      <td>0</td>\n",
       "    </tr>\n",
       "    <tr>\n",
       "      <th>46229</th>\n",
       "      <td>927325</td>\n",
       "      <td>2015-01-01</td>\n",
       "      <td>Mobile</td>\n",
       "      <td>Female</td>\n",
       "      <td>1</td>\n",
       "      <td>0</td>\n",
       "      <td>0</td>\n",
       "      <td>0</td>\n",
       "      <td>1</td>\n",
       "      <td>0</td>\n",
       "    </tr>\n",
       "    <tr>\n",
       "      <th>44228</th>\n",
       "      <td>416832</td>\n",
       "      <td>2015-01-01</td>\n",
       "      <td>Desktop</td>\n",
       "      <td>Female</td>\n",
       "      <td>1</td>\n",
       "      <td>0</td>\n",
       "      <td>0</td>\n",
       "      <td>0</td>\n",
       "      <td>0</td>\n",
       "      <td>0</td>\n",
       "    </tr>\n",
       "    <tr>\n",
       "      <th>48887</th>\n",
       "      <td>797963</td>\n",
       "      <td>2015-01-01</td>\n",
       "      <td>Desktop</td>\n",
       "      <td>Male</td>\n",
       "      <td>1</td>\n",
       "      <td>0</td>\n",
       "      <td>0</td>\n",
       "      <td>0</td>\n",
       "      <td>0</td>\n",
       "      <td>1</td>\n",
       "    </tr>\n",
       "    <tr>\n",
       "      <th>13024</th>\n",
       "      <td>218957</td>\n",
       "      <td>2015-01-01</td>\n",
       "      <td>Mobile</td>\n",
       "      <td>Female</td>\n",
       "      <td>1</td>\n",
       "      <td>1</td>\n",
       "      <td>0</td>\n",
       "      <td>0</td>\n",
       "      <td>1</td>\n",
       "      <td>0</td>\n",
       "    </tr>\n",
       "    <tr>\n",
       "      <th>...</th>\n",
       "      <td>...</td>\n",
       "      <td>...</td>\n",
       "      <td>...</td>\n",
       "      <td>...</td>\n",
       "      <td>...</td>\n",
       "      <td>...</td>\n",
       "      <td>...</td>\n",
       "      <td>...</td>\n",
       "      <td>...</td>\n",
       "      <td>...</td>\n",
       "    </tr>\n",
       "    <tr>\n",
       "      <th>13031</th>\n",
       "      <td>200517</td>\n",
       "      <td>2015-04-30</td>\n",
       "      <td>Mobile</td>\n",
       "      <td>Female</td>\n",
       "      <td>1</td>\n",
       "      <td>0</td>\n",
       "      <td>0</td>\n",
       "      <td>0</td>\n",
       "      <td>1</td>\n",
       "      <td>0</td>\n",
       "    </tr>\n",
       "    <tr>\n",
       "      <th>70410</th>\n",
       "      <td>802770</td>\n",
       "      <td>2015-04-30</td>\n",
       "      <td>Desktop</td>\n",
       "      <td>Female</td>\n",
       "      <td>1</td>\n",
       "      <td>0</td>\n",
       "      <td>0</td>\n",
       "      <td>0</td>\n",
       "      <td>0</td>\n",
       "      <td>0</td>\n",
       "    </tr>\n",
       "    <tr>\n",
       "      <th>33388</th>\n",
       "      <td>702706</td>\n",
       "      <td>2015-04-30</td>\n",
       "      <td>Desktop</td>\n",
       "      <td>Female</td>\n",
       "      <td>1</td>\n",
       "      <td>0</td>\n",
       "      <td>0</td>\n",
       "      <td>0</td>\n",
       "      <td>0</td>\n",
       "      <td>0</td>\n",
       "    </tr>\n",
       "    <tr>\n",
       "      <th>45240</th>\n",
       "      <td>106035</td>\n",
       "      <td>2015-04-30</td>\n",
       "      <td>Desktop</td>\n",
       "      <td>Female</td>\n",
       "      <td>1</td>\n",
       "      <td>0</td>\n",
       "      <td>0</td>\n",
       "      <td>0</td>\n",
       "      <td>0</td>\n",
       "      <td>0</td>\n",
       "    </tr>\n",
       "    <tr>\n",
       "      <th>54409</th>\n",
       "      <td>658275</td>\n",
       "      <td>2015-04-30</td>\n",
       "      <td>Desktop</td>\n",
       "      <td>Male</td>\n",
       "      <td>1</td>\n",
       "      <td>1</td>\n",
       "      <td>0</td>\n",
       "      <td>0</td>\n",
       "      <td>0</td>\n",
       "      <td>1</td>\n",
       "    </tr>\n",
       "    <tr>\n",
       "      <th>43386</th>\n",
       "      <td>503000</td>\n",
       "      <td>2015-04-30</td>\n",
       "      <td>Mobile</td>\n",
       "      <td>Male</td>\n",
       "      <td>1</td>\n",
       "      <td>0</td>\n",
       "      <td>0</td>\n",
       "      <td>0</td>\n",
       "      <td>1</td>\n",
       "      <td>1</td>\n",
       "    </tr>\n",
       "    <tr>\n",
       "      <th>24510</th>\n",
       "      <td>946611</td>\n",
       "      <td>2015-04-30</td>\n",
       "      <td>Mobile</td>\n",
       "      <td>Male</td>\n",
       "      <td>1</td>\n",
       "      <td>0</td>\n",
       "      <td>0</td>\n",
       "      <td>0</td>\n",
       "      <td>1</td>\n",
       "      <td>1</td>\n",
       "    </tr>\n",
       "    <tr>\n",
       "      <th>80062</th>\n",
       "      <td>748605</td>\n",
       "      <td>2015-04-30</td>\n",
       "      <td>Desktop</td>\n",
       "      <td>Female</td>\n",
       "      <td>1</td>\n",
       "      <td>0</td>\n",
       "      <td>0</td>\n",
       "      <td>0</td>\n",
       "      <td>0</td>\n",
       "      <td>0</td>\n",
       "    </tr>\n",
       "    <tr>\n",
       "      <th>64135</th>\n",
       "      <td>252068</td>\n",
       "      <td>2015-04-30</td>\n",
       "      <td>Desktop</td>\n",
       "      <td>Female</td>\n",
       "      <td>1</td>\n",
       "      <td>1</td>\n",
       "      <td>0</td>\n",
       "      <td>0</td>\n",
       "      <td>0</td>\n",
       "      <td>0</td>\n",
       "    </tr>\n",
       "    <tr>\n",
       "      <th>75500</th>\n",
       "      <td>983130</td>\n",
       "      <td>2015-04-30</td>\n",
       "      <td>Desktop</td>\n",
       "      <td>Male</td>\n",
       "      <td>1</td>\n",
       "      <td>1</td>\n",
       "      <td>0</td>\n",
       "      <td>0</td>\n",
       "      <td>0</td>\n",
       "      <td>1</td>\n",
       "    </tr>\n",
       "    <tr>\n",
       "      <th>68922</th>\n",
       "      <td>551532</td>\n",
       "      <td>2015-04-30</td>\n",
       "      <td>Mobile</td>\n",
       "      <td>Female</td>\n",
       "      <td>1</td>\n",
       "      <td>0</td>\n",
       "      <td>0</td>\n",
       "      <td>0</td>\n",
       "      <td>1</td>\n",
       "      <td>0</td>\n",
       "    </tr>\n",
       "    <tr>\n",
       "      <th>68923</th>\n",
       "      <td>894139</td>\n",
       "      <td>2015-04-30</td>\n",
       "      <td>Mobile</td>\n",
       "      <td>Female</td>\n",
       "      <td>1</td>\n",
       "      <td>0</td>\n",
       "      <td>0</td>\n",
       "      <td>0</td>\n",
       "      <td>1</td>\n",
       "      <td>0</td>\n",
       "    </tr>\n",
       "    <tr>\n",
       "      <th>33409</th>\n",
       "      <td>323225</td>\n",
       "      <td>2015-04-30</td>\n",
       "      <td>Mobile</td>\n",
       "      <td>Male</td>\n",
       "      <td>1</td>\n",
       "      <td>0</td>\n",
       "      <td>0</td>\n",
       "      <td>0</td>\n",
       "      <td>1</td>\n",
       "      <td>1</td>\n",
       "    </tr>\n",
       "    <tr>\n",
       "      <th>18771</th>\n",
       "      <td>708816</td>\n",
       "      <td>2015-04-30</td>\n",
       "      <td>Desktop</td>\n",
       "      <td>Male</td>\n",
       "      <td>1</td>\n",
       "      <td>0</td>\n",
       "      <td>0</td>\n",
       "      <td>0</td>\n",
       "      <td>0</td>\n",
       "      <td>1</td>\n",
       "    </tr>\n",
       "    <tr>\n",
       "      <th>39869</th>\n",
       "      <td>888129</td>\n",
       "      <td>2015-04-30</td>\n",
       "      <td>Mobile</td>\n",
       "      <td>Male</td>\n",
       "      <td>1</td>\n",
       "      <td>0</td>\n",
       "      <td>0</td>\n",
       "      <td>0</td>\n",
       "      <td>1</td>\n",
       "      <td>1</td>\n",
       "    </tr>\n",
       "    <tr>\n",
       "      <th>70396</th>\n",
       "      <td>55050</td>\n",
       "      <td>2015-04-30</td>\n",
       "      <td>Desktop</td>\n",
       "      <td>Female</td>\n",
       "      <td>1</td>\n",
       "      <td>1</td>\n",
       "      <td>0</td>\n",
       "      <td>0</td>\n",
       "      <td>0</td>\n",
       "      <td>0</td>\n",
       "    </tr>\n",
       "    <tr>\n",
       "      <th>48262</th>\n",
       "      <td>420695</td>\n",
       "      <td>2015-04-30</td>\n",
       "      <td>Mobile</td>\n",
       "      <td>Male</td>\n",
       "      <td>1</td>\n",
       "      <td>0</td>\n",
       "      <td>0</td>\n",
       "      <td>0</td>\n",
       "      <td>1</td>\n",
       "      <td>1</td>\n",
       "    </tr>\n",
       "    <tr>\n",
       "      <th>72169</th>\n",
       "      <td>34413</td>\n",
       "      <td>2015-04-30</td>\n",
       "      <td>Desktop</td>\n",
       "      <td>Male</td>\n",
       "      <td>1</td>\n",
       "      <td>1</td>\n",
       "      <td>0</td>\n",
       "      <td>0</td>\n",
       "      <td>0</td>\n",
       "      <td>1</td>\n",
       "    </tr>\n",
       "    <tr>\n",
       "      <th>55247</th>\n",
       "      <td>950537</td>\n",
       "      <td>2015-04-30</td>\n",
       "      <td>Desktop</td>\n",
       "      <td>Female</td>\n",
       "      <td>1</td>\n",
       "      <td>0</td>\n",
       "      <td>0</td>\n",
       "      <td>0</td>\n",
       "      <td>0</td>\n",
       "      <td>0</td>\n",
       "    </tr>\n",
       "    <tr>\n",
       "      <th>24460</th>\n",
       "      <td>108757</td>\n",
       "      <td>2015-04-30</td>\n",
       "      <td>Desktop</td>\n",
       "      <td>Male</td>\n",
       "      <td>1</td>\n",
       "      <td>0</td>\n",
       "      <td>0</td>\n",
       "      <td>0</td>\n",
       "      <td>0</td>\n",
       "      <td>1</td>\n",
       "    </tr>\n",
       "    <tr>\n",
       "      <th>31097</th>\n",
       "      <td>963911</td>\n",
       "      <td>2015-04-30</td>\n",
       "      <td>Desktop</td>\n",
       "      <td>Male</td>\n",
       "      <td>1</td>\n",
       "      <td>1</td>\n",
       "      <td>0</td>\n",
       "      <td>0</td>\n",
       "      <td>0</td>\n",
       "      <td>1</td>\n",
       "    </tr>\n",
       "    <tr>\n",
       "      <th>71378</th>\n",
       "      <td>188769</td>\n",
       "      <td>2015-04-30</td>\n",
       "      <td>Desktop</td>\n",
       "      <td>Male</td>\n",
       "      <td>1</td>\n",
       "      <td>1</td>\n",
       "      <td>0</td>\n",
       "      <td>0</td>\n",
       "      <td>0</td>\n",
       "      <td>1</td>\n",
       "    </tr>\n",
       "    <tr>\n",
       "      <th>54400</th>\n",
       "      <td>960695</td>\n",
       "      <td>2015-04-30</td>\n",
       "      <td>Mobile</td>\n",
       "      <td>Male</td>\n",
       "      <td>1</td>\n",
       "      <td>0</td>\n",
       "      <td>0</td>\n",
       "      <td>0</td>\n",
       "      <td>1</td>\n",
       "      <td>1</td>\n",
       "    </tr>\n",
       "    <tr>\n",
       "      <th>14960</th>\n",
       "      <td>408591</td>\n",
       "      <td>2015-04-30</td>\n",
       "      <td>Mobile</td>\n",
       "      <td>Female</td>\n",
       "      <td>1</td>\n",
       "      <td>0</td>\n",
       "      <td>0</td>\n",
       "      <td>0</td>\n",
       "      <td>1</td>\n",
       "      <td>0</td>\n",
       "    </tr>\n",
       "    <tr>\n",
       "      <th>55250</th>\n",
       "      <td>617351</td>\n",
       "      <td>2015-04-30</td>\n",
       "      <td>Desktop</td>\n",
       "      <td>Male</td>\n",
       "      <td>1</td>\n",
       "      <td>0</td>\n",
       "      <td>0</td>\n",
       "      <td>0</td>\n",
       "      <td>0</td>\n",
       "      <td>1</td>\n",
       "    </tr>\n",
       "    <tr>\n",
       "      <th>87669</th>\n",
       "      <td>192832</td>\n",
       "      <td>2015-04-30</td>\n",
       "      <td>Desktop</td>\n",
       "      <td>Male</td>\n",
       "      <td>1</td>\n",
       "      <td>1</td>\n",
       "      <td>0</td>\n",
       "      <td>0</td>\n",
       "      <td>0</td>\n",
       "      <td>1</td>\n",
       "    </tr>\n",
       "    <tr>\n",
       "      <th>66077</th>\n",
       "      <td>199833</td>\n",
       "      <td>2015-04-30</td>\n",
       "      <td>Mobile</td>\n",
       "      <td>Female</td>\n",
       "      <td>1</td>\n",
       "      <td>0</td>\n",
       "      <td>0</td>\n",
       "      <td>0</td>\n",
       "      <td>1</td>\n",
       "      <td>0</td>\n",
       "    </tr>\n",
       "    <tr>\n",
       "      <th>6734</th>\n",
       "      <td>282091</td>\n",
       "      <td>2015-04-30</td>\n",
       "      <td>Mobile</td>\n",
       "      <td>Female</td>\n",
       "      <td>1</td>\n",
       "      <td>1</td>\n",
       "      <td>0</td>\n",
       "      <td>0</td>\n",
       "      <td>1</td>\n",
       "      <td>0</td>\n",
       "    </tr>\n",
       "    <tr>\n",
       "      <th>77283</th>\n",
       "      <td>900297</td>\n",
       "      <td>2015-04-30</td>\n",
       "      <td>Desktop</td>\n",
       "      <td>Male</td>\n",
       "      <td>1</td>\n",
       "      <td>1</td>\n",
       "      <td>0</td>\n",
       "      <td>0</td>\n",
       "      <td>0</td>\n",
       "      <td>1</td>\n",
       "    </tr>\n",
       "    <tr>\n",
       "      <th>42282</th>\n",
       "      <td>803556</td>\n",
       "      <td>2015-04-30</td>\n",
       "      <td>Mobile</td>\n",
       "      <td>Female</td>\n",
       "      <td>1</td>\n",
       "      <td>0</td>\n",
       "      <td>0</td>\n",
       "      <td>0</td>\n",
       "      <td>1</td>\n",
       "      <td>0</td>\n",
       "    </tr>\n",
       "  </tbody>\n",
       "</table>\n",
       "<p>90400 rows × 10 columns</p>\n",
       "</div>"
      ],
      "text/plain": [
       "       user_id        date   device     sex  home_page  search_page  \\\n",
       "44634   602817  2015-01-01  Desktop    Male          1            0   \n",
       "62649   653429  2015-01-01  Desktop    Male          1            0   \n",
       "30040   701366  2015-01-01  Desktop    Male          1            0   \n",
       "30049   309933  2015-01-01  Desktop  Female          1            0   \n",
       "34436   574869  2015-01-01  Desktop    Male          1            1   \n",
       "57966   993501  2015-01-01  Desktop    Male          1            0   \n",
       "44202   955015  2015-01-01  Desktop  Female          1            1   \n",
       "19241   275388  2015-01-01  Desktop    Male          1            0   \n",
       "34423   881745  2015-01-01   Mobile  Female          1            1   \n",
       "4588     71618  2015-01-01  Desktop    Male          1            1   \n",
       "22648   855885  2015-01-01  Desktop  Female          1            0   \n",
       "19202   999928  2015-01-01   Mobile  Female          1            1   \n",
       "75930   122590  2015-01-01  Desktop    Male          1            0   \n",
       "68503   982528  2015-01-01   Mobile  Female          1            0   \n",
       "30132    86452  2015-01-01   Mobile    Male          1            1   \n",
       "580     587892  2015-01-01  Desktop  Female          1            0   \n",
       "13573   279092  2015-01-01  Desktop  Female          1            1   \n",
       "44193   844380  2015-01-01  Desktop  Female          1            0   \n",
       "84785   728049  2015-01-01  Desktop  Female          1            1   \n",
       "19167   327731  2015-01-01   Mobile    Male          1            1   \n",
       "42742   813709  2015-01-01   Mobile    Male          1            0   \n",
       "13509   296304  2015-01-01   Mobile  Female          1            1   \n",
       "53619   994981  2015-01-01  Desktop    Male          1            1   \n",
       "62650   368071  2015-01-01  Desktop    Male          1            0   \n",
       "19317   126023  2015-01-01  Desktop  Female          1            0   \n",
       "45419   756991  2015-01-01  Desktop  Female          1            0   \n",
       "46229   927325  2015-01-01   Mobile  Female          1            0   \n",
       "44228   416832  2015-01-01  Desktop  Female          1            0   \n",
       "48887   797963  2015-01-01  Desktop    Male          1            0   \n",
       "13024   218957  2015-01-01   Mobile  Female          1            1   \n",
       "...        ...         ...      ...     ...        ...          ...   \n",
       "13031   200517  2015-04-30   Mobile  Female          1            0   \n",
       "70410   802770  2015-04-30  Desktop  Female          1            0   \n",
       "33388   702706  2015-04-30  Desktop  Female          1            0   \n",
       "45240   106035  2015-04-30  Desktop  Female          1            0   \n",
       "54409   658275  2015-04-30  Desktop    Male          1            1   \n",
       "43386   503000  2015-04-30   Mobile    Male          1            0   \n",
       "24510   946611  2015-04-30   Mobile    Male          1            0   \n",
       "80062   748605  2015-04-30  Desktop  Female          1            0   \n",
       "64135   252068  2015-04-30  Desktop  Female          1            1   \n",
       "75500   983130  2015-04-30  Desktop    Male          1            1   \n",
       "68922   551532  2015-04-30   Mobile  Female          1            0   \n",
       "68923   894139  2015-04-30   Mobile  Female          1            0   \n",
       "33409   323225  2015-04-30   Mobile    Male          1            0   \n",
       "18771   708816  2015-04-30  Desktop    Male          1            0   \n",
       "39869   888129  2015-04-30   Mobile    Male          1            0   \n",
       "70396    55050  2015-04-30  Desktop  Female          1            1   \n",
       "48262   420695  2015-04-30   Mobile    Male          1            0   \n",
       "72169    34413  2015-04-30  Desktop    Male          1            1   \n",
       "55247   950537  2015-04-30  Desktop  Female          1            0   \n",
       "24460   108757  2015-04-30  Desktop    Male          1            0   \n",
       "31097   963911  2015-04-30  Desktop    Male          1            1   \n",
       "71378   188769  2015-04-30  Desktop    Male          1            1   \n",
       "54400   960695  2015-04-30   Mobile    Male          1            0   \n",
       "14960   408591  2015-04-30   Mobile  Female          1            0   \n",
       "55250   617351  2015-04-30  Desktop    Male          1            0   \n",
       "87669   192832  2015-04-30  Desktop    Male          1            1   \n",
       "66077   199833  2015-04-30   Mobile  Female          1            0   \n",
       "6734    282091  2015-04-30   Mobile  Female          1            1   \n",
       "77283   900297  2015-04-30  Desktop    Male          1            1   \n",
       "42282   803556  2015-04-30   Mobile  Female          1            0   \n",
       "\n",
       "       payment_page  payment_confirmation_page  mobile  male  \n",
       "44634             0                          0       0     1  \n",
       "62649             0                          0       0     1  \n",
       "30040             0                          0       0     1  \n",
       "30049             0                          0       0     0  \n",
       "34436             0                          0       0     1  \n",
       "57966             0                          0       0     1  \n",
       "44202             0                          0       0     0  \n",
       "19241             0                          0       0     1  \n",
       "34423             0                          0       1     0  \n",
       "4588              0                          0       0     1  \n",
       "22648             0                          0       0     0  \n",
       "19202             0                          0       1     0  \n",
       "75930             0                          0       0     1  \n",
       "68503             0                          0       1     0  \n",
       "30132             0                          0       1     1  \n",
       "580               0                          0       0     0  \n",
       "13573             0                          0       0     0  \n",
       "44193             0                          0       0     0  \n",
       "84785             1                          0       0     0  \n",
       "19167             0                          0       1     1  \n",
       "42742             0                          0       1     1  \n",
       "13509             0                          0       1     0  \n",
       "53619             0                          0       0     1  \n",
       "62650             0                          0       0     1  \n",
       "19317             0                          0       0     0  \n",
       "45419             0                          0       0     0  \n",
       "46229             0                          0       1     0  \n",
       "44228             0                          0       0     0  \n",
       "48887             0                          0       0     1  \n",
       "13024             0                          0       1     0  \n",
       "...             ...                        ...     ...   ...  \n",
       "13031             0                          0       1     0  \n",
       "70410             0                          0       0     0  \n",
       "33388             0                          0       0     0  \n",
       "45240             0                          0       0     0  \n",
       "54409             0                          0       0     1  \n",
       "43386             0                          0       1     1  \n",
       "24510             0                          0       1     1  \n",
       "80062             0                          0       0     0  \n",
       "64135             0                          0       0     0  \n",
       "75500             0                          0       0     1  \n",
       "68922             0                          0       1     0  \n",
       "68923             0                          0       1     0  \n",
       "33409             0                          0       1     1  \n",
       "18771             0                          0       0     1  \n",
       "39869             0                          0       1     1  \n",
       "70396             0                          0       0     0  \n",
       "48262             0                          0       1     1  \n",
       "72169             0                          0       0     1  \n",
       "55247             0                          0       0     0  \n",
       "24460             0                          0       0     1  \n",
       "31097             0                          0       0     1  \n",
       "71378             0                          0       0     1  \n",
       "54400             0                          0       1     1  \n",
       "14960             0                          0       1     0  \n",
       "55250             0                          0       0     1  \n",
       "87669             0                          0       0     1  \n",
       "66077             0                          0       1     0  \n",
       "6734              0                          0       1     0  \n",
       "77283             0                          0       0     1  \n",
       "42282             0                          0       1     0  \n",
       "\n",
       "[90400 rows x 10 columns]"
      ]
     },
     "execution_count": 14,
     "metadata": {},
     "output_type": "execute_result"
    }
   ],
   "source": [
    "df_merged.sort_values(by='date')"
   ]
  },
  {
   "cell_type": "code",
   "execution_count": 53,
   "metadata": {
    "collapsed": false
   },
   "outputs": [
    {
     "data": {
      "text/plain": [
       "('2015-01-01', '2015-04-30')"
      ]
     },
     "execution_count": 53,
     "metadata": {},
     "output_type": "execute_result"
    }
   ],
   "source": [
    "df_merged['date'].min(), df_merged['date'].max()"
   ]
  },
  {
   "cell_type": "markdown",
   "metadata": {},
   "source": [
    "Sanity check: 100% of users visited the home page"
   ]
  },
  {
   "cell_type": "code",
   "execution_count": 16,
   "metadata": {
    "collapsed": false
   },
   "outputs": [
    {
     "data": {
      "text/plain": [
       "1.0"
      ]
     },
     "execution_count": 16,
     "metadata": {},
     "output_type": "execute_result"
    }
   ],
   "source": [
    "1.0 * sum(df_merged['home_page']==1)/len(df_merged)"
   ]
  },
  {
   "cell_type": "markdown",
   "metadata": {},
   "source": [
    "50.0% of users visited the search page"
   ]
  },
  {
   "cell_type": "code",
   "execution_count": 17,
   "metadata": {
    "collapsed": false
   },
   "outputs": [
    {
     "data": {
      "text/plain": [
       "0.5"
      ]
     },
     "execution_count": 17,
     "metadata": {},
     "output_type": "execute_result"
    }
   ],
   "source": [
    "1.0*sum(df_merged['search_page']==1)/len(df_merged)"
   ]
  },
  {
   "cell_type": "markdown",
   "metadata": {},
   "source": [
    "6.7% of users visited the payment page; 13.3% of users who visited the search page went on to the payment page"
   ]
  },
  {
   "cell_type": "code",
   "execution_count": 18,
   "metadata": {
    "collapsed": false
   },
   "outputs": [
    {
     "data": {
      "text/plain": [
       "0.06670353982300885"
      ]
     },
     "execution_count": 18,
     "metadata": {},
     "output_type": "execute_result"
    }
   ],
   "source": [
    "1.0*sum(df_merged['payment_page']==1)/len(df_merged)"
   ]
  },
  {
   "cell_type": "code",
   "execution_count": 19,
   "metadata": {
    "collapsed": false
   },
   "outputs": [
    {
     "data": {
      "text/plain": [
       "0.1334070796460177"
      ]
     },
     "execution_count": 19,
     "metadata": {},
     "output_type": "execute_result"
    }
   ],
   "source": [
    "1.0*sum(df_merged['payment_page']==1)/sum(df_merged['search_page']==1)"
   ]
  },
  {
   "cell_type": "markdown",
   "metadata": {},
   "source": [
    "0.5% of users visited the payment confirmation page; 7.5% of users who visited the payment page went on to the payment confirmation page "
   ]
  },
  {
   "cell_type": "code",
   "execution_count": 20,
   "metadata": {
    "collapsed": false
   },
   "outputs": [
    {
     "data": {
      "text/plain": [
       "0.005"
      ]
     },
     "execution_count": 20,
     "metadata": {},
     "output_type": "execute_result"
    }
   ],
   "source": [
    "1.0*sum(df_merged['payment_confirmation_page']==1)/len(df_merged)"
   ]
  },
  {
   "cell_type": "code",
   "execution_count": 21,
   "metadata": {
    "collapsed": false
   },
   "outputs": [
    {
     "data": {
      "text/plain": [
       "0.07495854063018242"
      ]
     },
     "execution_count": 21,
     "metadata": {},
     "output_type": "execute_result"
    }
   ],
   "source": [
    "1.0*sum(df_merged['payment_confirmation_page']==1)/sum(df_merged['payment_page']==1)"
   ]
  },
  {
   "cell_type": "code",
   "execution_count": 22,
   "metadata": {
    "collapsed": true
   },
   "outputs": [],
   "source": [
    "search_pg_all = df_merged[df_merged['search_page']==1]"
   ]
  },
  {
   "cell_type": "code",
   "execution_count": 23,
   "metadata": {
    "collapsed": false
   },
   "outputs": [],
   "source": [
    "payment_pg_all = df_merged[df_merged['payment_page']==1]"
   ]
  },
  {
   "cell_type": "code",
   "execution_count": 24,
   "metadata": {
    "collapsed": false
   },
   "outputs": [],
   "source": [
    "payment_confirmation_pg_all = df_merged[df_merged['payment_confirmation_page']==1]"
   ]
  },
  {
   "cell_type": "markdown",
   "metadata": {},
   "source": [
    "Of the users that visited the home page, 33.4% (30200) were mobile users and 66.6% (60200) were desktop users (50.0% (45200) went on to visit the search page)\n",
    "\n",
    "Likewise, 50.1% (45325) were male and 49.9% (45075) were female"
   ]
  },
  {
   "cell_type": "code",
   "execution_count": 25,
   "metadata": {
    "collapsed": false
   },
   "outputs": [
    {
     "data": {
      "text/plain": [
       "(30200, 0.334070796460177, 60200, 0.665929203539823)"
      ]
     },
     "execution_count": 25,
     "metadata": {},
     "output_type": "execute_result"
    }
   ],
   "source": [
    "sum(df_merged['mobile']==1), 1.0*sum(df_merged['mobile']==1)/len(df_merged), sum(df_merged['mobile']==0), 1.0*sum(df_merged['mobile']==0)/len(df_merged)"
   ]
  },
  {
   "cell_type": "code",
   "execution_count": 42,
   "metadata": {
    "collapsed": false
   },
   "outputs": [
    {
     "data": {
      "text/plain": [
       "(45325, 0.5013827433628318, 45075, 0.49861725663716816)"
      ]
     },
     "execution_count": 42,
     "metadata": {},
     "output_type": "execute_result"
    }
   ],
   "source": [
    "sum(df_merged['male']==1), 1.0*sum(df_merged['male']==1)/len(df_merged), sum(df_merged['male']==0), 1.0*sum(df_merged['male']==0)/len(df_merged)"
   ]
  },
  {
   "cell_type": "code",
   "execution_count": 43,
   "metadata": {
    "collapsed": false
   },
   "outputs": [
    {
     "data": {
      "image/png": "[encoded data removed]",
      "text/plain": [
       "<matplotlib.figure.Figure at 0x11dae2e50>"
      ]
     },
     "metadata": {},
     "output_type": "display_data"
    },
    {
     "data": {
      "image/png": "[encoded data removed]",
      "text/plain": [
       "<matplotlib.figure.Figure at 0x11dae2090>"
      ]
     },
     "metadata": {},
     "output_type": "display_data"
    }
   ],
   "source": [
    "device_home = plt.hist(df_merged['mobile'])\n",
    "plt.xlabel('desktop=0, mobile=1')\n",
    "plt.ylabel('Number of Users')\n",
    "plt.title('Number of Users per Device Type: Home Page')\n",
    "plt.show(device_home)\n",
    "sex_home = plt.hist(df_merged['male'])\n",
    "plt.xlabel('female=0, male=1')\n",
    "plt.ylabel('Number of Users')\n",
    "plt.title('Number of Users per Device Type: Home Page')\n",
    "plt.show(sex_home)"
   ]
  },
  {
   "cell_type": "markdown",
   "metadata": {},
   "source": [
    "Of the users that visited the search page, 33.4% (15100) were mobile users and 66.6% (30100) were desktop users (13.3% (6030) went on to visit the payment page)\n",
    "\n",
    "Likewise, 49.8% (22524) were male and 50.2% (22676) were female"
   ]
  },
  {
   "cell_type": "code",
   "execution_count": 27,
   "metadata": {
    "collapsed": false
   },
   "outputs": [
    {
     "data": {
      "text/plain": [
       "(15100, 0.334070796460177, 30100, 0.665929203539823)"
      ]
     },
     "execution_count": 27,
     "metadata": {},
     "output_type": "execute_result"
    }
   ],
   "source": [
    "sum(search_pg_all['mobile']==1), 1.0*sum(search_pg_all['mobile']==1)/len(search_pg_all), sum(search_pg_all['mobile']==0), 1.0*sum(search_pg_all['mobile']==0)/len(search_pg_all)"
   ]
  },
  {
   "cell_type": "code",
   "execution_count": 44,
   "metadata": {
    "collapsed": false
   },
   "outputs": [
    {
     "data": {
      "text/plain": [
       "(22524, 0.49831858407079643, 22676, 0.5016814159292036)"
      ]
     },
     "execution_count": 44,
     "metadata": {},
     "output_type": "execute_result"
    }
   ],
   "source": [
    "sum(search_pg_all['male']==1), 1.0*sum(search_pg_all['male']==1)/len(search_pg_all), sum(search_pg_all['male']==0), 1.0*sum(search_pg_all['male']==0)/len(search_pg_all)"
   ]
  },
  {
   "cell_type": "code",
   "execution_count": 46,
   "metadata": {
    "collapsed": false
   },
   "outputs": [
    {
     "data": {
      "image/png": "[encoded data removed]",
      "text/plain": [
       "<matplotlib.figure.Figure at 0x119b8a2d0>"
      ]
     },
     "metadata": {},
     "output_type": "display_data"
    },
    {
     "data": {
      "image/png": "[encoded data removed]",
      "text/plain": [
       "<matplotlib.figure.Figure at 0x119bf4450>"
      ]
     },
     "metadata": {},
     "output_type": "display_data"
    }
   ],
   "source": [
    "device_search = plt.hist(search_pg_all['mobile'])\n",
    "plt.xlabel('desktop=0, mobile=1')\n",
    "plt.ylabel('Number of Users')\n",
    "plt.title('Number of Users per Device Type: Search Page')\n",
    "plt.show(device_search)\n",
    "sex_search = plt.hist(search_pg_all['male'])\n",
    "plt.xlabel('female=0, male=1')\n",
    "plt.ylabel('Number of Users')\n",
    "plt.title('Number of Users per Device Type: Search Page')\n",
    "plt.show(sex_search)"
   ]
  },
  {
   "cell_type": "markdown",
   "metadata": {},
   "source": [
    "Of the users that visited the payment page, 50.1% (3020) were mobile users and 49.9% (3010) were desktop users (7.5% (452) went on to visit the payment confirmation page)\n",
    "\n",
    "Likewise, 48.6% (2930) were male and 51.4% (3100) were female"
   ]
  },
  {
   "cell_type": "code",
   "execution_count": 29,
   "metadata": {
    "collapsed": false
   },
   "outputs": [
    {
     "data": {
      "text/plain": [
       "(3020, 0.5008291873963516, 3010, 0.49917081260364843)"
      ]
     },
     "execution_count": 29,
     "metadata": {},
     "output_type": "execute_result"
    }
   ],
   "source": [
    "sum(payment_pg_all['mobile']==1), 1.0*sum(payment_pg_all['mobile']==1)/len(payment_pg_all), sum(payment_pg_all['mobile']==0), 1.0*sum(payment_pg_all['mobile']==0)/len(payment_pg_all)"
   ]
  },
  {
   "cell_type": "code",
   "execution_count": 47,
   "metadata": {
    "collapsed": false
   },
   "outputs": [
    {
     "data": {
      "text/plain": [
       "(2930, 0.4859038142620232, 3100, 0.5140961857379768)"
      ]
     },
     "execution_count": 47,
     "metadata": {},
     "output_type": "execute_result"
    }
   ],
   "source": [
    "sum(payment_pg_all['male']==1), 1.0*sum(payment_pg_all['male']==1)/len(payment_pg_all), sum(payment_pg_all['male']==0), 1.0*sum(payment_pg_all['male']==0)/len(payment_pg_all)"
   ]
  },
  {
   "cell_type": "code",
   "execution_count": 49,
   "metadata": {
    "collapsed": false
   },
   "outputs": [
    {
     "data": {
      "image/png": "[encoded data removed]",
      "text/plain": [
       "<matplotlib.figure.Figure at 0x11b512610>"
      ]
     },
     "metadata": {},
     "output_type": "display_data"
    },
    {
     "data": {
      "image/png": "[encoded data removed]",
      "text/plain": [
       "<matplotlib.figure.Figure at 0x11b8ca650>"
      ]
     },
     "metadata": {},
     "output_type": "display_data"
    }
   ],
   "source": [
    "device_payment = plt.hist(payment_pg_all['mobile'])\n",
    "plt.xlabel('desktop=0, mobile=1')\n",
    "plt.ylabel('Number of Users')\n",
    "plt.title('Number of Users per Device Type: Payment Page')\n",
    "plt.show(device_payment)\n",
    "sex_payment = plt.hist(payment_pg_all['male'])\n",
    "plt.xlabel('female=0, male=1')\n",
    "plt.ylabel('Number of Users')\n",
    "plt.title('Number of Users per Device Type: Payment Page')\n",
    "plt.show(sex_payment)"
   ]
  },
  {
   "cell_type": "markdown",
   "metadata": {},
   "source": [
    "Of the users that visited the payment confirmation page, 66.8% (302) were mobile users and 33.2% (150) were desktop users\n",
    "\n",
    "Likewise, 46.7% (211) were male and 53.3% (241) were female"
   ]
  },
  {
   "cell_type": "code",
   "execution_count": 31,
   "metadata": {
    "collapsed": false
   },
   "outputs": [
    {
     "data": {
      "text/plain": [
       "(302, 0.668141592920354, 150, 0.33185840707964603)"
      ]
     },
     "execution_count": 31,
     "metadata": {},
     "output_type": "execute_result"
    }
   ],
   "source": [
    "sum(payment_confirmation_pg_all['mobile']==1), 1.0*sum(payment_confirmation_pg_all['mobile']==1)/len(payment_confirmation_pg_all), sum(payment_confirmation_pg_all['mobile']==0), 1.0*sum(payment_confirmation_pg_all['mobile']==0)/len(payment_confirmation_pg_all)"
   ]
  },
  {
   "cell_type": "code",
   "execution_count": 50,
   "metadata": {
    "collapsed": false
   },
   "outputs": [
    {
     "data": {
      "text/plain": [
       "(211, 0.4668141592920354, 241, 0.5331858407079646)"
      ]
     },
     "execution_count": 50,
     "metadata": {},
     "output_type": "execute_result"
    }
   ],
   "source": [
    "sum(payment_confirmation_pg_all['male']==1), 1.0*sum(payment_confirmation_pg_all['male']==1)/len(payment_confirmation_pg_all), sum(payment_confirmation_pg_all['male']==0), 1.0*sum(payment_confirmation_pg_all['male']==0)/len(payment_confirmation_pg_all)"
   ]
  },
  {
   "cell_type": "code",
   "execution_count": 51,
   "metadata": {
    "collapsed": false,
    "scrolled": true
   },
   "outputs": [
    {
     "data": {
      "image/png": "[encoded data removed]",
      "text/plain": [
       "<matplotlib.figure.Figure at 0x11bbf0a90>"
      ]
     },
     "metadata": {},
     "output_type": "display_data"
    },
    {
     "data": {
      "image/png": "[encoded data removed]",
      "text/plain": [
       "<matplotlib.figure.Figure at 0x11b8caed0>"
      ]
     },
     "metadata": {},
     "output_type": "display_data"
    }
   ],
   "source": [
    "device_payment_confirmation = plt.hist(payment_confirmation_pg_all['mobile'])\n",
    "plt.xlabel('desktop=0, mobile=1')\n",
    "plt.ylabel('Number of Users')\n",
    "plt.title('Number of Users per Device Type: Payment Confirmation Page')\n",
    "plt.show(device_payment_confirmation)\n",
    "sex_payment_confirmation = plt.hist(payment_confirmation_pg_all['male'])\n",
    "plt.xlabel('female=0, male=1')\n",
    "plt.ylabel('Number of Users')\n",
    "plt.title('Number of Users per Device Type: Payment Confirmation Page')\n",
    "plt.show(sex_payment_confirmation)"
   ]
  },
  {
   "cell_type": "code",
   "execution_count": 76,
   "metadata": {
    "collapsed": false
   },
   "outputs": [],
   "source": [
    "df_merged['datetime'] =  pd.to_datetime(df_merged['date'])"
   ]
  },
  {
   "cell_type": "code",
   "execution_count": 115,
   "metadata": {
    "collapsed": false
   },
   "outputs": [
    {
     "data": {
      "text/plain": [
       "2"
      ]
     },
     "execution_count": 115,
     "metadata": {},
     "output_type": "execute_result"
    }
   ],
   "source": [
    "df_merged['datetime'].iloc[0].month"
   ]
  },
  {
   "cell_type": "code",
   "execution_count": 119,
   "metadata": {
    "collapsed": false
   },
   "outputs": [
    {
     "data": {
      "image/png": "[encoded data removed]",
      "text/plain": [
       "<matplotlib.figure.Figure at 0x135681ed0>"
      ]
     },
     "metadata": {},
     "output_type": "display_data"
    }
   ],
   "source": [
    "import seaborn as sns\n",
    "g = sns.FacetGrid(df_merged, row='sex', col='date')\n",
    "g.map(plt.hist, 'home_page')\n",
    "plt.show()"
   ]
  },
  {
   "cell_type": "code",
   "execution_count": null,
   "metadata": {
    "collapsed": true
   },
   "outputs": [],
   "source": []
  }
 ],
 "metadata": {
  "kernelspec": {
   "display_name": "Python 2",
   "language": "python",
   "name": "python2"
  },
  "language_info": {
   "codemirror_mode": {
    "name": "ipython",
    "version": 2
   },
   "file_extension": ".py",
   "mimetype": "text/x-python",
   "name": "python",
   "nbconvert_exporter": "python",
   "pygments_lexer": "ipython2",
   "version": "2.7.13"
  }
 },
 "nbformat": 4,
 "nbformat_minor": 2
}
